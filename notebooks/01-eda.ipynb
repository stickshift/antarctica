{
 "cells": [
  {
   "cell_type": "markdown",
   "id": "c75ebfc4-d6ae-4d63-b200-4c7fdd865b74",
   "metadata": {},
   "source": [
    "# Antarctica: EDA\n",
    "\n",
    "Goal of this notebook is to explore basic descriptive statistics about the original probes data. The expectation is the probe locations are distributed randomly. "
   ]
  },
  {
   "cell_type": "markdown",
   "id": "2dca46c3-971a-486e-b0d8-2e9750cb28f0",
   "metadata": {
    "jp-MarkdownHeadingCollapsed": true
   },
   "source": [
    "# Setup"
   ]
  },
  {
   "cell_type": "code",
   "execution_count": 1,
   "id": "48026ee6-1ee5-4a1a-a035-f7a9031d4133",
   "metadata": {},
   "outputs": [],
   "source": [
    "import random\n",
    "from typing import Mapping, NamedTuple, Sequence\n",
    "\n",
    "import numpy as np\n",
    "import pandas as pd\n",
    "import seaborn as sns\n",
    "from matplotlib import patches as patches\n",
    "from matplotlib import pyplot as plt\n",
    "from pandas import DataFrame\n",
    "from tqdm import tqdm\n",
    "\n",
    "import antarctica as aa"
   ]
  },
  {
   "cell_type": "code",
   "execution_count": 2,
   "id": "da2740a2-3c66-4d36-8263-679713691c52",
   "metadata": {},
   "outputs": [],
   "source": [
    "sns.set_style(\"whitegrid\")"
   ]
  },
  {
   "cell_type": "markdown",
   "id": "a6d4e643-79af-4d77-9b7b-a3fdac711dad",
   "metadata": {},
   "source": [
    "# Dataset\n",
    "\n",
    "First, we read and prep the raw data."
   ]
  },
  {
   "cell_type": "code",
   "execution_count": 3,
   "id": "5d5ad67c-72e7-4d18-a977-8f711d9447d8",
   "metadata": {},
   "outputs": [
    {
     "data": {
      "text/html": [
       "<div>\n",
       "<style scoped>\n",
       "    .dataframe tbody tr th:only-of-type {\n",
       "        vertical-align: middle;\n",
       "    }\n",
       "\n",
       "    .dataframe tbody tr th {\n",
       "        vertical-align: top;\n",
       "    }\n",
       "\n",
       "    .dataframe thead th {\n",
       "        text-align: right;\n",
       "    }\n",
       "</style>\n",
       "<table border=\"1\" class=\"dataframe\">\n",
       "  <thead>\n",
       "    <tr style=\"text-align: right;\">\n",
       "      <th></th>\n",
       "      <th>x</th>\n",
       "      <th>y</th>\n",
       "      <th>distance_expected</th>\n",
       "      <th>distance_expected_err</th>\n",
       "    </tr>\n",
       "    <tr>\n",
       "      <th>probe_id</th>\n",
       "      <th></th>\n",
       "      <th></th>\n",
       "      <th></th>\n",
       "      <th></th>\n",
       "    </tr>\n",
       "  </thead>\n",
       "  <tbody>\n",
       "    <tr>\n",
       "      <th>0</th>\n",
       "      <td>0.472751</td>\n",
       "      <td>1.302734</td>\n",
       "      <td>0.428625</td>\n",
       "      <td>0.021431</td>\n",
       "    </tr>\n",
       "    <tr>\n",
       "      <th>1</th>\n",
       "      <td>5.944659</td>\n",
       "      <td>11.519452</td>\n",
       "      <td>2.392850</td>\n",
       "      <td>0.119642</td>\n",
       "    </tr>\n",
       "    <tr>\n",
       "      <th>2</th>\n",
       "      <td>12.623399</td>\n",
       "      <td>15.411657</td>\n",
       "      <td>1.264116</td>\n",
       "      <td>0.063206</td>\n",
       "    </tr>\n",
       "    <tr>\n",
       "      <th>3</th>\n",
       "      <td>8.340580</td>\n",
       "      <td>3.964348</td>\n",
       "      <td>2.261914</td>\n",
       "      <td>0.113096</td>\n",
       "    </tr>\n",
       "    <tr>\n",
       "      <th>4</th>\n",
       "      <td>9.833046</td>\n",
       "      <td>14.837630</td>\n",
       "      <td>2.668234</td>\n",
       "      <td>0.133412</td>\n",
       "    </tr>\n",
       "  </tbody>\n",
       "</table>\n",
       "</div>"
      ],
      "text/plain": [
       "                  x          y  distance_expected  distance_expected_err\n",
       "probe_id                                                                \n",
       "0          0.472751   1.302734           0.428625               0.021431\n",
       "1          5.944659  11.519452           2.392850               0.119642\n",
       "2         12.623399  15.411657           1.264116               0.063206\n",
       "3          8.340580   3.964348           2.261914               0.113096\n",
       "4          9.833046  14.837630           2.668234               0.133412"
      ]
     },
     "execution_count": 3,
     "metadata": {},
     "output_type": "execute_result"
    }
   ],
   "source": [
    "probes = aa.create_probes(\"data/probes.csv\")\n",
    "probes.head()"
   ]
  },
  {
   "cell_type": "markdown",
   "id": "a85f0df9-c333-43cc-b8f5-5df6b8e772de",
   "metadata": {},
   "source": [
    "# Count"
   ]
  },
  {
   "cell_type": "code",
   "execution_count": 4,
   "id": "ff439ec9-3180-4be1-862d-66a304da059f",
   "metadata": {},
   "outputs": [
    {
     "data": {
      "text/plain": [
       "50"
      ]
     },
     "execution_count": 4,
     "metadata": {},
     "output_type": "execute_result"
    }
   ],
   "source": [
    "n = len(probes)\n",
    "n"
   ]
  },
  {
   "cell_type": "markdown",
   "id": "d1b1d885-eb45-4cc8-9c16-1ffb57d148a2",
   "metadata": {},
   "source": [
    "## Summary\n",
    "\n",
    "There are 50 probes total."
   ]
  },
  {
   "cell_type": "markdown",
   "id": "658a494c-deaa-4840-9698-1e3bb3c7f081",
   "metadata": {},
   "source": [
    "# Coordinates"
   ]
  },
  {
   "cell_type": "markdown",
   "id": "a800d58a-ad1b-4bb5-884d-e858d355ab10",
   "metadata": {},
   "source": [
    "## X and Y Distributions"
   ]
  },
  {
   "cell_type": "code",
   "execution_count": 5,
   "id": "db1de666-cf5f-409f-9559-bd5f6114f2d3",
   "metadata": {},
   "outputs": [
    {
     "data": {
      "text/plain": [
       "Text(0.5, 1.0, 'Y')"
      ]
     },
     "execution_count": 5,
     "metadata": {},
     "output_type": "execute_result"
    },
    {
     "data": {
      "image/png": "[encoded data removed]",
      "text/plain": [
       "<Figure size 1000x400 with 2 Axes>"
      ]
     },
     "metadata": {},
     "output_type": "display_data"
    }
   ],
   "source": [
    "# Independent distributions\n",
    "_, axs = plt.subplots(ncols=2, figsize=(10,4))\n",
    "\n",
    "sns.histplot(data=probes, x=\"x\", ax=axs[0])\n",
    "axs[0].set_title(\"X\")\n",
    "\n",
    "sns.histplot(data=probes, x=\"y\", ax=axs[1])\n",
    "axs[1].set_title(\"Y\")"
   ]
  },
  {
   "cell_type": "code",
   "execution_count": 6,
   "id": "0e12e692-2fc9-435a-810b-c4ca464077aa",
   "metadata": {},
   "outputs": [
    {
     "data": {
      "text/plain": [
       "<seaborn.axisgrid.JointGrid at 0x14f797da0>"
      ]
     },
     "execution_count": 6,
     "metadata": {},
     "output_type": "execute_result"
    },
    {
     "data": {
      "image/png": "[encoded data removed]",
      "text/plain": [
       "<Figure size 600x600 with 3 Axes>"
      ]
     },
     "metadata": {},
     "output_type": "display_data"
    }
   ],
   "source": [
    "# Joint distribution\n",
    "sns.jointplot(data=probes, x=\"x\", y=\"y\")"
   ]
  },
  {
   "cell_type": "code",
   "execution_count": 7,
   "id": "5aab082b-e0a6-457c-a185-d880b7b97ea1",
   "metadata": {},
   "outputs": [
    {
     "data": {
      "text/plain": [
       "Text(0.5, 0, 'Vector Length')"
      ]
     },
     "execution_count": 7,
     "metadata": {},
     "output_type": "execute_result"
    },
    {
     "data": {
      "image/png": "[encoded data removed]",
      "text/plain": [
       "<Figure size 640x480 with 1 Axes>"
      ]
     },
     "metadata": {},
     "output_type": "display_data"
    }
   ],
   "source": [
    "# Vector length\n",
    "df = np.sqrt(probes.x**2 + probes.y**2)\n",
    "sns.histplot(x=df)\n",
    "plt.gca().set_xlabel(\"Vector Length\")"
   ]
  },
  {
   "cell_type": "markdown",
   "id": "197484be-cbd7-4ccf-90de-a533790951c4",
   "metadata": {},
   "source": [
    "## Summary\n",
    "\n",
    "No obvious patterns in the coordinates. Probe locations appear to be fairly random which matches our expectation."
   ]
  },
  {
   "cell_type": "markdown",
   "id": "158c61f4-a78a-4f87-b1ba-e53a20e161ac",
   "metadata": {},
   "source": [
    "# Expected Distance"
   ]
  },
  {
   "cell_type": "code",
   "execution_count": 8,
   "id": "9e53d232-5d6b-496e-8523-bff67ab0754b",
   "metadata": {},
   "outputs": [
    {
     "data": {
      "text/plain": [
       "<Axes: xlabel='distance_expected', ylabel='Count'>"
      ]
     },
     "execution_count": 8,
     "metadata": {},
     "output_type": "execute_result"
    },
    {
     "data": {
      "image/png": "[encoded data removed]",
      "text/plain": [
       "<Figure size 640x480 with 1 Axes>"
      ]
     },
     "metadata": {},
     "output_type": "display_data"
    }
   ],
   "source": [
    "sns.histplot(data=probes, x=\"distance_expected\")"
   ]
  },
  {
   "cell_type": "code",
   "execution_count": 9,
   "id": "562ebf10-56ad-49c2-8b0c-dc02ba33b010",
   "metadata": {},
   "outputs": [
    {
     "data": {
      "text/plain": [
       "<Axes: xlabel='distance_expected_err', ylabel='Count'>"
      ]
     },
     "execution_count": 9,
     "metadata": {},
     "output_type": "execute_result"
    },
    {
     "data": {
      "image/png": "[encoded data removed]",
      "text/plain": [
       "<Figure size 640x480 with 1 Axes>"
      ]
     },
     "metadata": {},
     "output_type": "display_data"
    }
   ],
   "source": [
    "sns.histplot(data=probes, x=\"distance_expected_err\")"
   ]
  },
  {
   "cell_type": "markdown",
   "id": "d7de462c-fef3-44c6-8d0a-8974eecdc8dc",
   "metadata": {},
   "source": [
    "The fact that these distributions are identical suggests the distance error is a function of distance. "
   ]
  },
  {
   "cell_type": "code",
   "execution_count": 10,
   "id": "db42cf50-5599-4974-8bdd-02928bb62cff",
   "metadata": {
    "scrolled": true
   },
   "outputs": [
    {
     "data": {
      "text/plain": [
       "probe_id\n",
       "0     0.05\n",
       "1     0.05\n",
       "2     0.05\n",
       "3     0.05\n",
       "4     0.05\n",
       "5     0.05\n",
       "6     0.05\n",
       "7     0.05\n",
       "8     0.05\n",
       "9     0.05\n",
       "10    0.05\n",
       "11    0.05\n",
       "12    0.05\n",
       "13    0.05\n",
       "14    0.05\n",
       "15    0.05\n",
       "16    0.05\n",
       "17    0.05\n",
       "18    0.05\n",
       "19    0.05\n",
       "20    0.05\n",
       "21    0.05\n",
       "22    0.05\n",
       "23    0.05\n",
       "24    0.05\n",
       "25    0.05\n",
       "26    0.05\n",
       "27    0.05\n",
       "28    0.05\n",
       "29    0.05\n",
       "30    0.05\n",
       "31    0.05\n",
       "32    0.05\n",
       "33    0.05\n",
       "34    0.05\n",
       "35    0.05\n",
       "36    0.05\n",
       "37    0.05\n",
       "38    0.05\n",
       "39    0.05\n",
       "40    0.05\n",
       "41    0.05\n",
       "42    0.05\n",
       "43    0.05\n",
       "44    0.05\n",
       "45    0.05\n",
       "46    0.05\n",
       "47    0.05\n",
       "48    0.05\n",
       "49    0.05\n",
       "dtype: float64"
      ]
     },
     "execution_count": 10,
     "metadata": {},
     "output_type": "execute_result"
    }
   ],
   "source": [
    "probes.distance_expected_err / probes.distance_expected"
   ]
  },
  {
   "cell_type": "markdown",
   "id": "43406def-dc7c-4fc2-8833-bd5f521d814b",
   "metadata": {},
   "source": [
    "## Summary\n",
    "\n",
    "The expected distance error is 5% of the expected distance. This suggests that we should consider normalizing the distance errors since we should expect the locations to be less precise when 2 probes are further away from each other."
   ]
  },
  {
   "cell_type": "code",
   "execution_count": null,
   "id": "221520cc-71f3-4596-8f69-95b866ddbf11",
   "metadata": {},
   "outputs": [],
   "source": []
  }
 ],
 "metadata": {
  "kernelspec": {
   "display_name": "Python 3 (ipykernel)",
   "language": "python",
   "name": "python3"
  },
  "language_info": {
   "codemirror_mode": {
    "name": "ipython",
    "version": 3
   },
   "file_extension": ".py",
   "mimetype": "text/x-python",
   "name": "python",
   "nbconvert_exporter": "python",
   "pygments_lexer": "ipython3",
   "version": "3.12.4"
  }
 },
 "nbformat": 4,
 "nbformat_minor": 5
}
